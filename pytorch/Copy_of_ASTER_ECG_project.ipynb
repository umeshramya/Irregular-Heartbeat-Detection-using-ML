{
  "cells": [
    {
      "cell_type": "markdown",
      "metadata": {
        "id": "4NS1I9IKg8zF"
      },
      "source": [
        "#Let us visuloize ECG raw with anotations\n",
        "Database contans total 48 records from 48n ptients each with 30mins record sof holter\n",
        "\n",
        "Now in database path ../mit-bih_database we have two files\n",
        "## *.csv file\n",
        "1. *.csv\n",
        "2. *.csv conatins values of Y axis i.e amplitude of voltage for each sample.\n",
        "3. sampleing is done 360 times in a sec that approxmiate to 0.00277777778\n",
        "4. thee are two cols in CSV one for MLTI and other V5 lead.\n",
        "so we ploted line  where x axis is sampling each datapoint at 0.00277777778 and y axis is value at MLTI column\n",
        "\n",
        "\n",
        "\n",
        "## *annotations.txt\n",
        "1. this file contains the tab seprated data\n",
        "2. it has 7 columns namely data = {'Time': [], 'Sample #': [], 'Type': [], 'Sub': [], 'Chan': [], 'Num': [], 'Aux': []}\n",
        "3. Sample columns conatins the valkue of the sample corrsondind to sample count of *.csv\n",
        "4. Type col contains the Classification types\n"
      ]
    },
    {
      "cell_type": "code",
      "execution_count": null,
      "metadata": {
        "colab": {
          "base_uri": "https://localhost:8080/"
        },
        "id": "j3QRuPByIXId",
        "outputId": "53113d43-218e-4ce4-c441-14b3a60f7f85"
      },
      "outputs": [],
      "source": [
        "import pandas as pd\n",
        "import matplotlib.pyplot as plt\n",
        "import torch\n",
        "\n",
        "\n",
        "\n",
        "INPUT_FEATURES =450\n",
        "BATCH_SIZE =32\n",
        "SAVE_PREFIX =\"Epoch_1_\"\n",
        "\n",
        "device = 'cuda' if torch.cuda.is_available() else 'cpu'\n",
        "\n",
        "\n",
        "def csv_and_anno(file_name):\n",
        "  ecg_data = pd.read_csv(f\"../mit-bih_database/{file_name}.csv\")\n",
        "  ecg_mlii =  ecg_data.iloc[:, 1]\n",
        "  annotations_file = f\"../mit-bih_database/{file_name}annotations.txt\"\n",
        "  anno_data = {'Time': [], 'Sample #': [], 'Type': [], 'Sub': [], 'Chan': [], 'Num': [], 'Aux': []}\n",
        "  with open(annotations_file, 'r') as file:\n",
        "    for line in file:\n",
        "        # Split the line based on spaces\n",
        "        parts = line.split()\n",
        "        # Fill missing values with NaN\n",
        "        parts += [None] * (7 - len(parts))\n",
        "        # Assign values to corresponding keys in data dictionary\n",
        "        anno_data['Time'].append(parts[0])\n",
        "        anno_data['Sample #'].append(parts[1])\n",
        "        anno_data['Type'].append(parts[2])\n",
        "        anno_data['Sub'].append(parts[3])\n",
        "        anno_data['Chan'].append(parts[4])\n",
        "        anno_data['Num'].append(parts[5])\n",
        "        anno_data['Aux'].append(parts[6])\n",
        "\n",
        "  return ecg_data, ecg_mlii, anno_data\n",
        "\n",
        "\n",
        "ecg_data, ecg_mlii, anno_data = csv_and_anno(100)\n",
        "\n",
        "pd.DataFrame(anno_data), pd.DataFrame(ecg_data), ecg_data[\"'MLII'\"][len(ecg_data[\"'MLII'\"])-1]\n"
      ]
    },
    {
      "cell_type": "markdown",
      "metadata": {
        "id": "PFNwbGfGaJir"
      },
      "source": [
        "# Create Fiigure of ECG with anoatations"
      ]
    },
    {
      "cell_type": "code",
      "execution_count": null,
      "metadata": {
        "colab": {
          "base_uri": "https://localhost:8080/",
          "height": 564
        },
        "id": "BYihRhmfBowM",
        "outputId": "b9d567be-4722-49a6-be61-66c0d6af4375"
      },
      "outputs": [],
      "source": [
        "\n",
        "\n",
        "\n",
        "# Plot the ECG signal\n",
        "plt.figure(figsize=(12, 6))\n",
        "plt.plot(ecg_mlii, label='ECG Signal')\n",
        "\n",
        "\n",
        "offset = 100\n",
        "\n",
        "for i in range(len(anno_data)):\n",
        "  if i > 0:\n",
        "    sample_float = int(anno_data[\"Sample #\"][i])\n",
        "    if anno_data[\"Type\"][i] == 'N':\n",
        "      plt.scatter(sample_float, ecg_mlii[sample_float] + offset, color='blue', marker='^')\n",
        "    else:\n",
        "      # print(i, annotations.iloc[i][\"Type\"],  annotations.iloc[i][\"Sample #\"])\n",
        "      plt.scatter(sample_float,  ecg_mlii[sample_float] + offset , color='red', marker='x')\n",
        "\n",
        "\n",
        "plt.xlabel('Sample')\n",
        "plt.ylabel('Amplitude')\n",
        "plt.title('ECG Signal with Annotations')\n",
        "plt.xlim(0, 1000)\n",
        "plt.legend()\n",
        "plt.grid(True)\n",
        "plt.show()\n"
      ]
    },
    {
      "cell_type": "markdown",
      "metadata": {
        "id": "bKKhGbVaNCgz"
      },
      "source": [
        "# WE will look beat by beet with anotatation\n",
        "hear we will take value of anotation index and one before and one after\n",
        "and plot\n"
      ]
    },
    {
      "cell_type": "code",
      "execution_count": null,
      "metadata": {
        "colab": {
          "base_uri": "https://localhost:8080/",
          "height": 350
        },
        "id": "LQZZB16aNc71",
        "outputId": "71e4b6e7-1655-4d83-e7b0-3c6ab6287c8b"
      },
      "outputs": [],
      "source": [
        "beat_index = 5\n",
        "\n",
        "before_beat_sample = int(anno_data[\"Sample #\"][beat_index-1])\n",
        "after_beat_sample = int(anno_data[\"Sample #\"][beat_index+1])\n",
        "current_beat_sample = int(anno_data[\"Sample #\"][beat_index])\n",
        "current_beat_type = anno_data[\"Type\"][beat_index]\n",
        "\n",
        "print(before_beat_sample, after_beat_sample)\n",
        "\n",
        "\n",
        "before_beat_sample, after_beat_sample, current_beat_type\n",
        "\n",
        "plt.figure(figsize=(3, 3))\n",
        "plt.plot(ecg_mlii, label='ECG Signal')\n",
        "plt.xlabel('Sample')\n",
        "plt.ylabel('Amplitude')\n",
        "plt.title(f'ECG Signal with Annotations : {current_beat_type }')\n",
        "plt.xlim(before_beat_sample + 15, after_beat_sample -15)\n",
        "plt.legend()\n",
        "plt.grid(True)\n",
        "plt.show()\n",
        "\n"
      ]
    },
    {
      "cell_type": "markdown",
      "metadata": {
        "id": "OqFI-WxMaWXu"
      },
      "source": [
        "# get_fixed_length_tensor()\n",
        "This method for genrateing tensor from the samople heights of single beat\n",
        "achived by sample form previos beat and after beat"
      ]
    },
    {
      "cell_type": "code",
      "execution_count": null,
      "metadata": {
        "colab": {
          "base_uri": "https://localhost:8080/"
        },
        "id": "7fznkg0qrDdw",
        "outputId": "dcff5809-0ccf-4cb1-cc6f-5c17f5ad74cf"
      },
      "outputs": [],
      "source": [
        "import torch\n",
        "from torch.nn.functional import pad\n",
        "\n",
        "\n",
        "\n",
        "def get_fixed_length_tensor(start:int, end:int, ecg_data,fixed_length:int=2000):\n",
        "  start_plus, end_minus = 15,15\n",
        "  selected_data = ecg_data.iloc[start + start_plus :end - end_minus, 1]\n",
        "\n",
        "  tensor_data = torch.tensor(selected_data.values)\n",
        "\n",
        "  # Pad or truncate the tensor to ensure a fixed length\n",
        "  if len(tensor_data) < fixed_length:\n",
        "      # Pad the tensor with zeros to the desired length\n",
        "      padded_data = pad(tensor_data, (0, fixed_length - len(tensor_data)))\n",
        "  elif len(tensor_data) > fixed_length:\n",
        "      # Truncate the tensor to the desired length\n",
        "      padded_data = tensor_data[:fixed_length]\n",
        "  else:\n",
        "      # No need for padding or truncation\n",
        "      padded_data = tensor_data\n",
        "  return padded_data.float()\n",
        "\n",
        "sample_beat_tesnor = get_fixed_length_tensor(before_beat_sample, after_beat_sample, ecg_data)\n",
        "sample_beat_tesnor.dtype\n"
      ]
    },
    {
      "cell_type": "markdown",
      "metadata": {
        "id": "BnftuD_HavvQ"
      },
      "source": [
        "# def get_csv_files(directory):\n",
        "this method get csv file names from the database directory\n",
        "extenions are trimed\n"
      ]
    },
    {
      "cell_type": "code",
      "execution_count": null,
      "metadata": {
        "colab": {
          "base_uri": "https://localhost:8080/"
        },
        "id": "KHDhjN0GUGLK",
        "outputId": "d4103c85-788d-4689-ad29-1d099b4fc447"
      },
      "outputs": [],
      "source": [
        "import os\n",
        "\n",
        "def get_csv_files(directory):\n",
        "    csv_files = []\n",
        "    for filename in os.listdir(directory):\n",
        "        if filename.endswith('.csv'):\n",
        "            csv_files.append(os.path.splitext(filename)[0])  # Exclude file extension\n",
        "    return csv_files\n",
        "\n",
        "# Example usage\n",
        "directory = '../mit-bih_database'\n",
        "csv_files = get_csv_files(directory)\n",
        "print(csv_files)\n"
      ]
    },
    {
      "cell_type": "markdown",
      "metadata": {
        "id": "78JAyKPib0E1"
      },
      "source": [
        "# def create_tensor(file_name):\n",
        "this function create in single array\n",
        "\n",
        "tensor_array = {\"tensor\": [], \"label\": []}"
      ]
    },
    {
      "cell_type": "code",
      "execution_count": null,
      "metadata": {
        "colab": {
          "base_uri": "https://localhost:8080/"
        },
        "id": "hCWMIvlRFdkZ",
        "outputId": "82bd0213-cd3d-4deb-9025-e21deb55a840"
      },
      "outputs": [],
      "source": [
        "\n",
        "\n",
        "tensor_array = {\"tensor\": [], \"label\": []}\n",
        "\n",
        "def create_tensor(file_name):\n",
        "    ecg_data, ecg_mlii, anno_data = csv_and_anno(file_name)\n",
        "    data_len = len(anno_data['Sample #'])\n",
        "\n",
        "    # Process index 1 separately\n",
        "    start = 0\n",
        "    end = int(anno_data['Sample #'][1+1])\n",
        "    tensor_array['tensor'].append(get_fixed_length_tensor(start, end, ecg_data, fixed_length=INPUT_FEATURES))\n",
        "    tensor_array['label'].append(anno_data['Type'][1])\n",
        "\n",
        "    # Process the remaining indices\n",
        "    for i in range(2, data_len - 1):  # Exclude the last data point\n",
        "        start = int(anno_data['Sample #'][i-1])\n",
        "        end = int(anno_data['Sample #'][i+1])\n",
        "        tensor_array['tensor'].append(get_fixed_length_tensor(start, end, ecg_data, fixed_length=INPUT_FEATURES))\n",
        "        tensor_array['label'].append(anno_data['Type'][i])\n",
        "\n",
        "\n",
        "\n",
        "for i in range(len(csv_files)):\n",
        "  create_tensor(csv_files[i])\n",
        "  print(len(tensor_array['tensor']))\n",
        "\n",
        "# create_tensor(200)\n"
      ]
    },
    {
      "cell_type": "code",
      "execution_count": null,
      "metadata": {
        "colab": {
          "base_uri": "https://localhost:8080/"
        },
        "id": "FfdJmcE1gOoo",
        "outputId": "12cd6055-6e96-4d12-f7e4-548cfc3fbcc9"
      },
      "outputs": [],
      "source": [
        "from collections import Counter\n",
        "\n",
        "# Assuming tensor_array[\"label\"] contains the list of labels\n",
        "label_counts = Counter(tensor_array[\"label\"])\n",
        "\n",
        "# Print the count of each label\n",
        "for label, count in label_counts.items():\n",
        "    print(f\"Label {label}: Count {count} {100*(count/112599) : .2f}%\")\n"
      ]
    },
    {
      "cell_type": "markdown",
      "metadata": {
        "id": "cgNcd-hPcGwD"
      },
      "source": [
        "# Split Data into training and test data"
      ]
    },
    {
      "cell_type": "code",
      "execution_count": null,
      "metadata": {
        "colab": {
          "base_uri": "https://localhost:8080/"
        },
        "id": "45UztIDb-qr_",
        "outputId": "fb4132ab-03e9-4603-f8b1-40f817193d65"
      },
      "outputs": [],
      "source": [
        "import sklearn\n",
        "from sklearn.model_selection import train_test_split\n",
        "\n",
        "# Assuming you have populated tensor_array with tensors and labels\n",
        "\n",
        "# Split the data into training and testing sets\n",
        "train_tensors, test_tensors, train_labels, test_labels = train_test_split(tensor_array['tensor'], tensor_array['label'], test_size=0.2, random_state=42)\n",
        "\n",
        "# Create new dictionaries for training and testing sets\n",
        "train_tensor_array = {\"tensor\": train_tensors, \"label\": train_labels}\n",
        "test_tensor_array = {\"tensor\": test_tensors, \"label\": test_labels}\n",
        "\n",
        "# Check the lengths of the training and testing sets\n",
        "print(\"Training set length:\", len(train_tensors))\n",
        "print(\"Testing set length:\", len(test_tensors))\n",
        "\n",
        "\n",
        "unique_labels = set(tensor_array['label'])\n",
        "print(\"Unique labels:\", unique_labels)\n",
        "CLASSIFICATION_LENGTH=len(unique_labels)\n",
        "print(CLASSIFICATION_LENGTH)\n"
      ]
    },
    {
      "cell_type": "markdown",
      "metadata": {
        "id": "A6RjXAivcZsX"
      },
      "source": [
        "# Plot ecg beats from the tensory array by random sampling 3X3"
      ]
    },
    {
      "cell_type": "code",
      "execution_count": null,
      "metadata": {
        "colab": {
          "base_uri": "https://localhost:8080/",
          "height": 807
        },
        "id": "OFJ3T90gPp-U",
        "outputId": "13079f18-57ac-4d3c-d1d9-f411d2c85f9b"
      },
      "outputs": [],
      "source": [
        "\n",
        "import random\n",
        "\n",
        "# Get random indices\n",
        "random_indices = random.sample(range(len(train_tensor_array['tensor'])), 9)\n",
        "\n",
        "\n",
        "# Create a 3x3 subplot grid\n",
        "fig, axs = plt.subplots(3, 3, figsize=(8, 8))\n",
        "\n",
        "# Plot each tensor and label\n",
        "for i, idx in enumerate(random_indices):\n",
        "    tensor = train_tensor_array['tensor'][idx]\n",
        "    label = train_tensor_array['label'][idx]\n",
        "    x_values = range(len(tensor))\n",
        "\n",
        "    # Determine the subplot position\n",
        "    row = i // 3\n",
        "    col = i % 3\n",
        "\n",
        "    # Plot the tensor values\n",
        "    axs[row, col].plot(x_values, tensor.numpy())\n",
        "    axs[row, col].set_title(f'Tensor {idx}: {label}')\n",
        "    axs[row, col].axis('off')\n",
        "\n",
        "\n",
        "\n",
        "# Adjust layout\n",
        "plt.tight_layout()\n",
        "\n",
        "plt.show()\n",
        "\n"
      ]
    },
    {
      "cell_type": "markdown",
      "metadata": {
        "id": "yu_1dCdpn8La"
      },
      "source": [
        "# first  and last tesnor plot"
      ]
    },
    {
      "cell_type": "code",
      "execution_count": null,
      "metadata": {
        "colab": {
          "base_uri": "https://localhost:8080/",
          "height": 502
        },
        "id": "34YL2xExoDEB",
        "outputId": "a870f3af-e702-4ae1-f5c5-ba81a4604285"
      },
      "outputs": [],
      "source": [
        "import matplotlib.pyplot as plt\n",
        "\n",
        "# Create subplots\n",
        "fig, axs = plt.subplots(1, 2, figsize=(12, 5))\n",
        "\n",
        "# get first and last tensor\n",
        "tensor_first = tensor_array['tensor'][1]\n",
        "tensor_last = tensor_array['tensor'][-1]\n",
        "\n",
        "# Plot the first tensor\n",
        "label_first = tensor_array['label'][0]\n",
        "x_values_first = range(len(tensor_first))\n",
        "axs[0].plot(x_values_first, tensor_first.numpy(), label=f'Tensor 0: {label_first}')\n",
        "axs[0].set_xlabel('Index')\n",
        "axs[0].set_ylabel('Value')\n",
        "axs[0].set_title('First Tensor Plot')\n",
        "\n",
        "\n",
        "# Plot the last tensor\n",
        "\n",
        "label_last = tensor_array['label'][-1]\n",
        "x_values_last = range(len(tensor_last))\n",
        "axs[1].plot(x_values_last, tensor_last.numpy(), label=f'Tensor last: {label_last}')\n",
        "axs[1].set_xlabel('Index')\n",
        "axs[1].set_ylabel('Value')\n",
        "axs[1].set_title('Last Tensor Plot')\n",
        "\n",
        "\n",
        "# Show legend\n",
        "axs[0].legend()\n",
        "axs[1].legend()\n",
        "\n",
        "# Adjust layout\n",
        "plt.tight_layout()\n",
        "\n",
        "# Show the plot\n",
        "plt.show()\n"
      ]
    },
    {
      "cell_type": "markdown",
      "metadata": {
        "id": "sUJVVzVxCjuT"
      },
      "source": [
        "# LinearModel Class"
      ]
    },
    {
      "cell_type": "code",
      "execution_count": null,
      "metadata": {
        "colab": {
          "base_uri": "https://localhost:8080/"
        },
        "id": "3csFmqpGCpiH",
        "outputId": "4a3e660e-7a4d-47ca-9e24-5b2e9f861e1e"
      },
      "outputs": [],
      "source": [
        "import torch\n",
        "from torch import nn\n",
        "class LinearModel(nn.Module):\n",
        "  def __init__(self, input_features:int, output_feature:int, hidden_units:int=500) -> None:\n",
        "     super().__init__()\n",
        "     self.layer= nn.Sequential(\n",
        "         nn.Linear(in_features=input_features, out_features=hidden_units),\n",
        "         nn.ReLU(),\n",
        "         nn.Linear(in_features=hidden_units, out_features=hidden_units),\n",
        "         nn.ReLU(),\n",
        "         nn.Linear(in_features=hidden_units, out_features=output_feature),\n",
        "      )\n",
        "\n",
        "  def forward(self, x:torch.Tensor)->torch.Tensor:\n",
        "    return self.layer(x)\n",
        "\n",
        "\n",
        "\n",
        "model_0 = LinearModel(input_features=INPUT_FEATURES, output_feature=CLASSIFICATION_LENGTH, hidden_units=500).to(device)\n",
        "\n",
        "model_0\n",
        "\n",
        "\n",
        "#"
      ]
    },
    {
      "cell_type": "markdown",
      "metadata": {
        "id": "KqHUOUxOeKLM"
      },
      "source": [
        "# Res-Net-18 module"
      ]
    },
    {
      "cell_type": "code",
      "execution_count": null,
      "metadata": {
        "colab": {
          "base_uri": "https://localhost:8080/"
        },
        "id": "BV655-7ReJoa",
        "outputId": "072a7ecf-f49e-45f2-db43-10ec65192d37"
      },
      "outputs": [],
      "source": [
        "import torch\n",
        "import torch.nn as nn\n",
        "import torchvision.models as models\n",
        "\n",
        "# Define a custom ResNet-18 model for your specifications\n",
        "class CustomResNet18(nn.Module):\n",
        "    def __init__(self, num_classes):\n",
        "        super(CustomResNet18, self).__init__()\n",
        "        self.resnet = models.resnet18(pretrained=False)\n",
        "        # Replace the first convolutional layer to accept 1 channel instead of 3\n",
        "        self.resnet.conv1 = nn.Conv2d(1, 64, kernel_size=7, stride=2, padding=3, bias=False)\n",
        "        # Replace the last fully connected layer\n",
        "        self.resnet.fc = nn.Linear(self.resnet.fc.in_features, num_classes)\n",
        "\n",
        "    def forward(self, x):\n",
        "        return self.resnet(x)\n",
        "\n",
        "# Create an instance of the custom ResNet-18 model\n",
        "custom_resnet18 = CustomResNet18(num_classes=23)  # Adjust num_classes to 23\n",
        "\n",
        "# Example usage:\n",
        "input_tensor = torch.randn(1, 1, 500, 1)  # Example input tensor with shape [batch_size, channels, height, width]\n",
        "output = custom_resnet18(input_tensor)\n",
        "print(output.shape)  # Print the shape of the output tensor\n",
        "\n",
        "model_0 =  CustomResNet18(num_classes=23)\n",
        "\n",
        "\n"
      ]
    },
    {
      "cell_type": "markdown",
      "metadata": {
        "id": "GtMv-STZdD07"
      },
      "source": [
        "# def accuracy_fn():"
      ]
    },
    {
      "cell_type": "code",
      "execution_count": null,
      "metadata": {
        "id": "gwc88GG8TfSa"
      },
      "outputs": [],
      "source": [
        "# Calculate accuracy (a classification metric)\n",
        "def accuracy_fn(y_true, y_pred):\n",
        "    correct = torch.eq(y_true, y_pred).sum().item() # torch.eq() calculates where two tensors are equal\n",
        "    acc = (correct / len(y_pred)) * 100\n",
        "    return acc"
      ]
    },
    {
      "cell_type": "markdown",
      "metadata": {
        "id": "MmNLZfYfBRYV"
      },
      "source": [
        "# Custom Dataloader\n"
      ]
    },
    {
      "cell_type": "code",
      "execution_count": null,
      "metadata": {
        "id": "DB1jaeONBdmT"
      },
      "outputs": [],
      "source": [
        "import torch\n",
        "from torch.utils.data import Dataset, DataLoader\n",
        "from torch.utils.data import DataLoader,WeightedRandomSampler\n",
        "from collections import Counter\n",
        "\n",
        "class CustomDataset(Dataset):\n",
        "    def __init__(self, data_array, label_set):\n",
        "        self.data = data_array['tensor']\n",
        "        self.labels = data_array['label']\n",
        "        self.label_to_index = {label: i for i, label in enumerate(label_set)}\n",
        "        self.index_to_label = {i: label for label, i in self.label_to_index.items()}\n",
        "\n",
        "    def __len__(self):\n",
        "        return len(self.data)\n",
        "\n",
        "    def __getitem__(self, idx):\n",
        "        # Convert the one-dimensional tensor to the shape [1, 360, 1]\n",
        "        data_tensor = torch.tensor(self.data[idx], dtype=torch.float32).view(1, INPUT_FEATURES, 1)\n",
        "        label = self.labels[idx]\n",
        "        label_tensor = torch.tensor(self.label_to_index[label], dtype=torch.long)  # Use long type for classification labels\n",
        "        sample = {'tensor': data_tensor, 'label': label_tensor}\n",
        "        return sample"
      ]
    },
    {
      "cell_type": "markdown",
      "metadata": {
        "id": "XP2qrAZrA4-W"
      },
      "source": [
        "# weight adjument"
      ]
    },
    {
      "cell_type": "code",
      "execution_count": null,
      "metadata": {
        "colab": {
          "base_uri": "https://localhost:8080/"
        },
        "id": "XwLAJ4GmA_vE",
        "outputId": "10f1171b-463a-4814-f354-696bf52f5754"
      },
      "outputs": [],
      "source": [
        "\n",
        "# Create custom datasets for training and testing\n",
        "lable_set = ['Q', 'j', 'f', 'a', '|', 'N', 'S', '!', 'R', 'V', '\"', 'L', 'e', 'J', '+', 'F', '[', ']', '~', 'x', 'A', 'E', '/']\n",
        "\n",
        "\n",
        "# Calculate class weights\n",
        "label_counts = Counter(tensor_array[\"label\"])\n",
        "total_samples = sum(label_counts.values())\n",
        "\n",
        "# class_weights = [total_samples / label_counts[label] for label in lable_set]\n",
        "\n",
        "class_weights = [total_samples / label_counts[label] if label_counts[label] != 0 else total_samples / 0.00000001 for label in lable_set]\n",
        "\n",
        "\n",
        "print(class_weights)\n",
        "\n",
        "\n",
        "# Map each label to its corresponding index\n",
        "label_to_index = {label: i for i, label in enumerate(lable_set)}\n",
        "\n",
        "# Create a list of class weights based on the mapped indices\n",
        "weights = [class_weights[label_to_index[label]] for label in tensor_array[\"label\"]]\n",
        "\n",
        "# Create a sampler with weighted sampling\n",
        "sampler = WeightedRandomSampler(weights, len(weights), replacement=True)\n",
        "\n",
        "\n",
        "\n",
        "\n",
        "\n",
        "# Create data loaders for training and testing\n",
        "# train_dataloader = DataLoader(train_dataset, batch_size=BATCH_SIZE, shuffle=False, sampler=sampler)\n",
        "# test_dataloader = DataLoader(test_dataset, batch_size=BATCH_SIZE, shuffle=False,  sampler=sampler)"
      ]
    },
    {
      "cell_type": "markdown",
      "metadata": {
        "id": "j88u2hKkjyAv"
      },
      "source": [
        "# Load the data in custom data loader"
      ]
    },
    {
      "cell_type": "code",
      "execution_count": null,
      "metadata": {
        "colab": {
          "base_uri": "https://localhost:8080/"
        },
        "id": "8D39yCX9j1FZ",
        "outputId": "9e6451ee-c81b-478b-ae26-a50767283d24"
      },
      "outputs": [],
      "source": [
        "\n",
        "\n",
        "train_dataset = CustomDataset(train_tensor_array,lable_set)\n",
        "test_dataset = CustomDataset(test_tensor_array, lable_set)\n",
        "\n",
        "train_dataloader = DataLoader(train_dataset, batch_size=BATCH_SIZE, shuffle=True )\n",
        "test_dataloader = DataLoader(test_dataset, batch_size=BATCH_SIZE, shuffle=False)\n",
        "\n",
        "# class_weights_tensor = torch.tensor(class_weights, dtype=torch.float32).to(device)\n",
        "# loss_fn = torch.nn.CrossEntropyLoss(weight=class_weights_tensor)\n",
        "loss_fn = torch.nn.CrossEntropyLoss()\n",
        "\n",
        "\n",
        "# Define your loss function with class weights\n",
        "\n",
        "\n",
        "# Define your optimizer\n",
        "# optimizer = torch.optim.Adam(custom_resnet18.parameters(), lr=0.001)\n",
        "optimizer = torch.optim.SGD(params=model_0.parameters(), lr=0.1)\n",
        "\n",
        "\n",
        "\n",
        "# Let's check out what we've created\n",
        "print(f\"train_dataloader.dataset[0].shape {train_dataloader.dataset[0]}\")\n",
        "print(f\"Dataloaders: {train_dataloader, test_dataloader}\")\n",
        "print(f\"Length of train dataloader: {len(train_dataloader)} batches of {BATCH_SIZE}\")\n",
        "print(f\"Length of test dataloader: {len(test_dataloader)} batches of {BATCH_SIZE}\")"
      ]
    },
    {
      "cell_type": "code",
      "execution_count": null,
      "metadata": {},
      "outputs": [],
      "source": [
        "import torch\n",
        "import torch.nn as nn\n",
        "import torch.nn.functional as F\n",
        "\n",
        "class FocalLoss(nn.Module):\n",
        "    def __init__(self, alpha=1, gamma=2, reduction='mean'):\n",
        "        super(FocalLoss, self).__init__()\n",
        "        self.alpha = alpha\n",
        "        self.gamma = gamma\n",
        "        self.reduction = reduction\n",
        "\n",
        "    def forward(self, inputs, targets):\n",
        "        ce_loss = F.cross_entropy(inputs, targets, reduction='none')\n",
        "        pt = torch.exp(-ce_loss)\n",
        "        focal_loss = self.alpha * (1 - pt) ** self.gamma * ce_loss\n",
        "\n",
        "        if self.reduction == 'mean':\n",
        "            return torch.mean(focal_loss)\n",
        "        elif self.reduction == 'sum':\n",
        "            return torch.sum(focal_loss)\n",
        "        else:\n",
        "            return focal_loss\n",
        "\n",
        "# Example usage\n",
        "loss_fn = FocalLoss(alpha=1, gamma=2)\n"
      ]
    },
    {
      "cell_type": "markdown",
      "metadata": {
        "id": "rJQV53THdQuw"
      },
      "source": [
        "# Training and Testing Loop"
      ]
    },
    {
      "cell_type": "code",
      "execution_count": null,
      "metadata": {
        "colab": {
          "base_uri": "https://localhost:8080/",
          "height": 170,
          "referenced_widgets": [
            "4d71dc787973427aa97a1ce03da83fe3",
            "e6a5211473f144938c5e2f6ac68575f7",
            "216b144748964c8f9d405427781658e6",
            "48b8833c99d8498db67677bf003b595a",
            "750934a7545a47af8519f58df715a57a",
            "50458ffabcfa47ec9d8db7e7c6e0c5fe",
            "6f40afb02e144400940f4d09269d64b5",
            "9c091279a0024c1fa59d3cff578edd8a",
            "04a34f653ce346ba9b8cca7a78a9a9d1",
            "93a646a1aa4b4cf8b6748e8b48cceef3",
            "c01e831276dc427a9707649a131b1519",
            "9f1ea89a69b44f809aa0f0d46b71b11b",
            "dcce309ea0fa48f9bd841bab3921bcbe",
            "5400f5b9f9e74922ba968bfb81ce325e",
            "72e00c4b87854601b95f09afb45bd7ca",
            "e6285be0c06642c8bdb83e26211cd862",
            "3c5d52bbce6842b0b5b0fe050ee6b6e2",
            "a83275b9d9014d1a8b73e648cffc2db8",
            "4e2f8c1b1b8342a1896aaeb98996c037",
            "1b3d866403944e5d89c10a036925ec01",
            "49d9796a0f564e90af6c5129af37e114",
            "9253412b7ee74f258b973b1b82445bf1",
            "28e3723a1fec4072b50a845fabe62765"
          ]
        },
        "id": "1vXRP3JbITjU",
        "outputId": "dce7c120-4d9d-49b2-a03f-539050451c93"
      },
      "outputs": [],
      "source": [
        "from tqdm.auto import  tqdm\n",
        "torch.manual_seed(42)\n",
        "\n",
        "\n",
        "\n",
        "\n",
        "epochs=1\n",
        "\n",
        "\n",
        "\n",
        "results = {\"loss\":[], \"test_loss\":[], \"acc\":[], \"test_acc\":[]}\n",
        "\n",
        "for epoch in tqdm(range(epochs), desc=\"Epochs\"):\n",
        "  model_0.train()\n",
        "\n",
        "  loss = 0\n",
        "  acc =0\n",
        "  test_loss =0\n",
        "  test_acc = 0\n",
        "\n",
        "  for batch in tqdm(train_dataloader, desc=\"Training Batch\"):\n",
        "    inputs, labels = batch['tensor'], batch['label']\n",
        "    outputs = model_0(inputs)\n",
        "    cur_loss = loss_fn(outputs, labels)\n",
        "    loss += cur_loss.item()\n",
        "    cur_acc = accuracy_fn(y_pred=outputs.argmax(dim=1), y_true=labels)\n",
        "    acc +=cur_acc\n",
        "    optimizer.zero_grad()\n",
        "    cur_loss.backward()\n",
        "    optimizer.step()\n",
        "\n",
        "  # Take avarage of acc and loss per epoch\n",
        "  loss=loss/len(train_dataloader)\n",
        "  acc = acc/len(train_dataloader)\n",
        "  results[\"loss\"].append(loss)\n",
        "  results[\"acc\"].append(acc)\n",
        "\n",
        "\n",
        "  model_0.eval();\n",
        "  with torch.inference_mode():\n",
        "    for batch_idx, batch in tqdm(enumerate(test_dataloader), desc=\"Testing Batch\", total=len(test_dataloader)):\n",
        "      inputs, labels = batch['tensor'], batch['label']\n",
        "      outputs = model_0(inputs)\n",
        "      cur_test_loss = loss_fn(outputs, labels)\n",
        "      test_loss += cur_test_loss.item();\n",
        "      cur_test_acc = accuracy_fn(y_pred=outputs.argmax(dim=1), y_true=labels)\n",
        "      test_acc += cur_test_acc\n",
        "\n",
        "    test_loss = test_loss/len(test_dataloader)\n",
        "    results[\"test_loss\"].append(test_loss)\n",
        "    test_acc = test_acc/len(test_dataloader)\n",
        "    results[\"test_acc\"].append(test_acc)\n",
        "\n",
        "\n",
        "  print(f\"Epoch {epoch} Loss {loss:.4f} Acc {acc:.2f}% Test Loss {test_loss:.4f} Test Acc {test_acc:.2f}% \")\n",
        "\n",
        "\n",
        "\n",
        "\n"
      ]
    },
    {
      "cell_type": "markdown",
      "metadata": {},
      "source": []
    },
    {
      "cell_type": "code",
      "execution_count": null,
      "metadata": {
        "colab": {
          "base_uri": "https://localhost:8080/",
          "height": 81
        },
        "id": "LVGjp-NBZvH8",
        "outputId": "aadcd291-93df-4456-a066-3f48dfe62629"
      },
      "outputs": [],
      "source": [
        "import pandas as pd\n",
        "\n",
        "pd.DataFrame(results)\n"
      ]
    },
    {
      "cell_type": "markdown",
      "metadata": {
        "id": "FM6ccNc3u946"
      },
      "source": [
        "# Saving the module"
      ]
    },
    {
      "cell_type": "code",
      "execution_count": null,
      "metadata": {
        "id": "Ix22-7G2vUyp"
      },
      "outputs": [],
      "source": [
        "import os\n",
        "\n",
        "# Create the folder if it doesn't exist\n",
        "folder_name = \"ecg_module\"\n",
        "if not os.path.exists(folder_name):\n",
        "    os.makedirs(folder_name)\n",
        "\n",
        "# Define the file path for saving the model\n",
        "file_path = os.path.join(folder_name, \"custom_resnet18.pth\")\n",
        "\n",
        "# Save the model\n",
        "torch.save(custom_resnet18.state_dict(), file_path)\n",
        "\n"
      ]
    },
    {
      "cell_type": "markdown",
      "metadata": {
        "id": "qu14qwbWwd5x"
      },
      "source": [
        "# Load the module"
      ]
    },
    {
      "cell_type": "code",
      "execution_count": null,
      "metadata": {
        "colab": {
          "base_uri": "https://localhost:8080/"
        },
        "id": "v6HkjmAowiWH",
        "outputId": "19363659-b85d-46f4-d4b5-8a1ebced1e23"
      },
      "outputs": [],
      "source": [
        "import os\n",
        "\n",
        "# Define the folder and file path\n",
        "folder_name = \"ecg_module\"\n",
        "file_path = os.path.join(folder_name, f\"custom_resnet18.pth\")\n",
        "\n",
        "# Check if the file exists\n",
        "if os.path.exists(file_path):\n",
        "    # Create an instance of the custom ResNet-18 model\n",
        "    loaded_model = CustomResNet18(num_classes=23)\n",
        "    # Load the model state dictionary\n",
        "    loaded_model.load_state_dict(torch.load(file_path))\n",
        "    print(\"Model loaded successfully.\")\n",
        "else:\n",
        "    print(\"Model file does not exist.\")\n"
      ]
    }
  ],
  "metadata": {
    "accelerator": "GPU",
    "colab": {
      "gpuType": "T4",
      "provenance": []
    },
    "kernelspec": {
      "display_name": "Python 3",
      "name": "python3"
    },
    "language_info": {
      "codemirror_mode": {
        "name": "ipython",
        "version": 3
      },
      "file_extension": ".py",
      "mimetype": "text/x-python",
      "name": "python",
      "nbconvert_exporter": "python",
      "pygments_lexer": "ipython3",
      "version": "3.12.2"
    },
    "widgets": {
      "application/vnd.jupyter.widget-state+json": {
        "04a34f653ce346ba9b8cca7a78a9a9d1": {
          "model_module": "@jupyter-widgets/controls",
          "model_module_version": "1.5.0",
          "model_name": "ProgressStyleModel",
          "state": {
            "_model_module": "@jupyter-widgets/controls",
            "_model_module_version": "1.5.0",
            "_model_name": "ProgressStyleModel",
            "_view_count": null,
            "_view_module": "@jupyter-widgets/base",
            "_view_module_version": "1.2.0",
            "_view_name": "StyleView",
            "bar_color": null,
            "description_width": ""
          }
        },
        "1b3d866403944e5d89c10a036925ec01": {
          "model_module": "@jupyter-widgets/controls",
          "model_module_version": "1.5.0",
          "model_name": "ProgressStyleModel",
          "state": {
            "_model_module": "@jupyter-widgets/controls",
            "_model_module_version": "1.5.0",
            "_model_name": "ProgressStyleModel",
            "_view_count": null,
            "_view_module": "@jupyter-widgets/base",
            "_view_module_version": "1.2.0",
            "_view_name": "StyleView",
            "bar_color": null,
            "description_width": ""
          }
        },
        "216b144748964c8f9d405427781658e6": {
          "model_module": "@jupyter-widgets/controls",
          "model_module_version": "1.5.0",
          "model_name": "FloatProgressModel",
          "state": {
            "_dom_classes": [],
            "_model_module": "@jupyter-widgets/controls",
            "_model_module_version": "1.5.0",
            "_model_name": "FloatProgressModel",
            "_view_count": null,
            "_view_module": "@jupyter-widgets/controls",
            "_view_module_version": "1.5.0",
            "_view_name": "ProgressView",
            "bar_style": "success",
            "description": "",
            "description_tooltip": null,
            "layout": "IPY_MODEL_9c091279a0024c1fa59d3cff578edd8a",
            "max": 1,
            "min": 0,
            "orientation": "horizontal",
            "style": "IPY_MODEL_04a34f653ce346ba9b8cca7a78a9a9d1",
            "value": 1
          }
        },
        "3c5d52bbce6842b0b5b0fe050ee6b6e2": {
          "model_module": "@jupyter-widgets/base",
          "model_module_version": "1.2.0",
          "model_name": "LayoutModel",
          "state": {
            "_model_module": "@jupyter-widgets/base",
            "_model_module_version": "1.2.0",
            "_model_name": "LayoutModel",
            "_view_count": null,
            "_view_module": "@jupyter-widgets/base",
            "_view_module_version": "1.2.0",
            "_view_name": "LayoutView",
            "align_content": null,
            "align_items": null,
            "align_self": null,
            "border": null,
            "bottom": null,
            "display": null,
            "flex": null,
            "flex_flow": null,
            "grid_area": null,
            "grid_auto_columns": null,
            "grid_auto_flow": null,
            "grid_auto_rows": null,
            "grid_column": null,
            "grid_gap": null,
            "grid_row": null,
            "grid_template_areas": null,
            "grid_template_columns": null,
            "grid_template_rows": null,
            "height": null,
            "justify_content": null,
            "justify_items": null,
            "left": null,
            "margin": null,
            "max_height": null,
            "max_width": null,
            "min_height": null,
            "min_width": null,
            "object_fit": null,
            "object_position": null,
            "order": null,
            "overflow": null,
            "overflow_x": null,
            "overflow_y": null,
            "padding": null,
            "right": null,
            "top": null,
            "visibility": null,
            "width": null
          }
        },
        "48b8833c99d8498db67677bf003b595a": {
          "model_module": "@jupyter-widgets/controls",
          "model_module_version": "1.5.0",
          "model_name": "HTMLModel",
          "state": {
            "_dom_classes": [],
            "_model_module": "@jupyter-widgets/controls",
            "_model_module_version": "1.5.0",
            "_model_name": "HTMLModel",
            "_view_count": null,
            "_view_module": "@jupyter-widgets/controls",
            "_view_module_version": "1.5.0",
            "_view_name": "HTMLView",
            "description": "",
            "description_tooltip": null,
            "layout": "IPY_MODEL_93a646a1aa4b4cf8b6748e8b48cceef3",
            "placeholder": "​",
            "style": "IPY_MODEL_c01e831276dc427a9707649a131b1519",
            "value": " 1/1 [1:49:06&lt;00:00, 6546.18s/it]"
          }
        },
        "49d9796a0f564e90af6c5129af37e114": {
          "model_module": "@jupyter-widgets/base",
          "model_module_version": "1.2.0",
          "model_name": "LayoutModel",
          "state": {
            "_model_module": "@jupyter-widgets/base",
            "_model_module_version": "1.2.0",
            "_model_name": "LayoutModel",
            "_view_count": null,
            "_view_module": "@jupyter-widgets/base",
            "_view_module_version": "1.2.0",
            "_view_name": "LayoutView",
            "align_content": null,
            "align_items": null,
            "align_self": null,
            "border": null,
            "bottom": null,
            "display": null,
            "flex": null,
            "flex_flow": null,
            "grid_area": null,
            "grid_auto_columns": null,
            "grid_auto_flow": null,
            "grid_auto_rows": null,
            "grid_column": null,
            "grid_gap": null,
            "grid_row": null,
            "grid_template_areas": null,
            "grid_template_columns": null,
            "grid_template_rows": null,
            "height": null,
            "justify_content": null,
            "justify_items": null,
            "left": null,
            "margin": null,
            "max_height": null,
            "max_width": null,
            "min_height": null,
            "min_width": null,
            "object_fit": null,
            "object_position": null,
            "order": null,
            "overflow": null,
            "overflow_x": null,
            "overflow_y": null,
            "padding": null,
            "right": null,
            "top": null,
            "visibility": null,
            "width": null
          }
        },
        "4d71dc787973427aa97a1ce03da83fe3": {
          "model_module": "@jupyter-widgets/controls",
          "model_module_version": "1.5.0",
          "model_name": "HBoxModel",
          "state": {
            "_dom_classes": [],
            "_model_module": "@jupyter-widgets/controls",
            "_model_module_version": "1.5.0",
            "_model_name": "HBoxModel",
            "_view_count": null,
            "_view_module": "@jupyter-widgets/controls",
            "_view_module_version": "1.5.0",
            "_view_name": "HBoxView",
            "box_style": "",
            "children": [
              "IPY_MODEL_e6a5211473f144938c5e2f6ac68575f7",
              "IPY_MODEL_216b144748964c8f9d405427781658e6",
              "IPY_MODEL_48b8833c99d8498db67677bf003b595a"
            ],
            "layout": "IPY_MODEL_750934a7545a47af8519f58df715a57a"
          }
        },
        "4e2f8c1b1b8342a1896aaeb98996c037": {
          "model_module": "@jupyter-widgets/base",
          "model_module_version": "1.2.0",
          "model_name": "LayoutModel",
          "state": {
            "_model_module": "@jupyter-widgets/base",
            "_model_module_version": "1.2.0",
            "_model_name": "LayoutModel",
            "_view_count": null,
            "_view_module": "@jupyter-widgets/base",
            "_view_module_version": "1.2.0",
            "_view_name": "LayoutView",
            "align_content": null,
            "align_items": null,
            "align_self": null,
            "border": null,
            "bottom": null,
            "display": null,
            "flex": null,
            "flex_flow": null,
            "grid_area": null,
            "grid_auto_columns": null,
            "grid_auto_flow": null,
            "grid_auto_rows": null,
            "grid_column": null,
            "grid_gap": null,
            "grid_row": null,
            "grid_template_areas": null,
            "grid_template_columns": null,
            "grid_template_rows": null,
            "height": null,
            "justify_content": null,
            "justify_items": null,
            "left": null,
            "margin": null,
            "max_height": null,
            "max_width": null,
            "min_height": null,
            "min_width": null,
            "object_fit": null,
            "object_position": null,
            "order": null,
            "overflow": null,
            "overflow_x": null,
            "overflow_y": null,
            "padding": null,
            "right": null,
            "top": null,
            "visibility": null,
            "width": null
          }
        },
        "50458ffabcfa47ec9d8db7e7c6e0c5fe": {
          "model_module": "@jupyter-widgets/base",
          "model_module_version": "1.2.0",
          "model_name": "LayoutModel",
          "state": {
            "_model_module": "@jupyter-widgets/base",
            "_model_module_version": "1.2.0",
            "_model_name": "LayoutModel",
            "_view_count": null,
            "_view_module": "@jupyter-widgets/base",
            "_view_module_version": "1.2.0",
            "_view_name": "LayoutView",
            "align_content": null,
            "align_items": null,
            "align_self": null,
            "border": null,
            "bottom": null,
            "display": null,
            "flex": null,
            "flex_flow": null,
            "grid_area": null,
            "grid_auto_columns": null,
            "grid_auto_flow": null,
            "grid_auto_rows": null,
            "grid_column": null,
            "grid_gap": null,
            "grid_row": null,
            "grid_template_areas": null,
            "grid_template_columns": null,
            "grid_template_rows": null,
            "height": null,
            "justify_content": null,
            "justify_items": null,
            "left": null,
            "margin": null,
            "max_height": null,
            "max_width": null,
            "min_height": null,
            "min_width": null,
            "object_fit": null,
            "object_position": null,
            "order": null,
            "overflow": null,
            "overflow_x": null,
            "overflow_y": null,
            "padding": null,
            "right": null,
            "top": null,
            "visibility": null,
            "width": null
          }
        },
        "5400f5b9f9e74922ba968bfb81ce325e": {
          "model_module": "@jupyter-widgets/controls",
          "model_module_version": "1.5.0",
          "model_name": "FloatProgressModel",
          "state": {
            "_dom_classes": [],
            "_model_module": "@jupyter-widgets/controls",
            "_model_module_version": "1.5.0",
            "_model_name": "FloatProgressModel",
            "_view_count": null,
            "_view_module": "@jupyter-widgets/controls",
            "_view_module_version": "1.5.0",
            "_view_name": "ProgressView",
            "bar_style": "",
            "description": "",
            "description_tooltip": null,
            "layout": "IPY_MODEL_4e2f8c1b1b8342a1896aaeb98996c037",
            "max": 2815,
            "min": 0,
            "orientation": "horizontal",
            "style": "IPY_MODEL_1b3d866403944e5d89c10a036925ec01",
            "value": 2709
          }
        },
        "6f40afb02e144400940f4d09269d64b5": {
          "model_module": "@jupyter-widgets/controls",
          "model_module_version": "1.5.0",
          "model_name": "DescriptionStyleModel",
          "state": {
            "_model_module": "@jupyter-widgets/controls",
            "_model_module_version": "1.5.0",
            "_model_name": "DescriptionStyleModel",
            "_view_count": null,
            "_view_module": "@jupyter-widgets/base",
            "_view_module_version": "1.2.0",
            "_view_name": "StyleView",
            "description_width": ""
          }
        },
        "72e00c4b87854601b95f09afb45bd7ca": {
          "model_module": "@jupyter-widgets/controls",
          "model_module_version": "1.5.0",
          "model_name": "HTMLModel",
          "state": {
            "_dom_classes": [],
            "_model_module": "@jupyter-widgets/controls",
            "_model_module_version": "1.5.0",
            "_model_name": "HTMLModel",
            "_view_count": null,
            "_view_module": "@jupyter-widgets/controls",
            "_view_module_version": "1.5.0",
            "_view_name": "HTMLView",
            "description": "",
            "description_tooltip": null,
            "layout": "IPY_MODEL_49d9796a0f564e90af6c5129af37e114",
            "placeholder": "​",
            "style": "IPY_MODEL_9253412b7ee74f258b973b1b82445bf1",
            "value": " 2708/2815 [1:36:04&lt;04:02,  2.27s/it]"
          }
        },
        "750934a7545a47af8519f58df715a57a": {
          "model_module": "@jupyter-widgets/base",
          "model_module_version": "1.2.0",
          "model_name": "LayoutModel",
          "state": {
            "_model_module": "@jupyter-widgets/base",
            "_model_module_version": "1.2.0",
            "_model_name": "LayoutModel",
            "_view_count": null,
            "_view_module": "@jupyter-widgets/base",
            "_view_module_version": "1.2.0",
            "_view_name": "LayoutView",
            "align_content": null,
            "align_items": null,
            "align_self": null,
            "border": null,
            "bottom": null,
            "display": null,
            "flex": null,
            "flex_flow": null,
            "grid_area": null,
            "grid_auto_columns": null,
            "grid_auto_flow": null,
            "grid_auto_rows": null,
            "grid_column": null,
            "grid_gap": null,
            "grid_row": null,
            "grid_template_areas": null,
            "grid_template_columns": null,
            "grid_template_rows": null,
            "height": null,
            "justify_content": null,
            "justify_items": null,
            "left": null,
            "margin": null,
            "max_height": null,
            "max_width": null,
            "min_height": null,
            "min_width": null,
            "object_fit": null,
            "object_position": null,
            "order": null,
            "overflow": null,
            "overflow_x": null,
            "overflow_y": null,
            "padding": null,
            "right": null,
            "top": null,
            "visibility": null,
            "width": null
          }
        },
        "9253412b7ee74f258b973b1b82445bf1": {
          "model_module": "@jupyter-widgets/controls",
          "model_module_version": "1.5.0",
          "model_name": "DescriptionStyleModel",
          "state": {
            "_model_module": "@jupyter-widgets/controls",
            "_model_module_version": "1.5.0",
            "_model_name": "DescriptionStyleModel",
            "_view_count": null,
            "_view_module": "@jupyter-widgets/base",
            "_view_module_version": "1.2.0",
            "_view_name": "StyleView",
            "description_width": ""
          }
        },
        "93a646a1aa4b4cf8b6748e8b48cceef3": {
          "model_module": "@jupyter-widgets/base",
          "model_module_version": "1.2.0",
          "model_name": "LayoutModel",
          "state": {
            "_model_module": "@jupyter-widgets/base",
            "_model_module_version": "1.2.0",
            "_model_name": "LayoutModel",
            "_view_count": null,
            "_view_module": "@jupyter-widgets/base",
            "_view_module_version": "1.2.0",
            "_view_name": "LayoutView",
            "align_content": null,
            "align_items": null,
            "align_self": null,
            "border": null,
            "bottom": null,
            "display": null,
            "flex": null,
            "flex_flow": null,
            "grid_area": null,
            "grid_auto_columns": null,
            "grid_auto_flow": null,
            "grid_auto_rows": null,
            "grid_column": null,
            "grid_gap": null,
            "grid_row": null,
            "grid_template_areas": null,
            "grid_template_columns": null,
            "grid_template_rows": null,
            "height": null,
            "justify_content": null,
            "justify_items": null,
            "left": null,
            "margin": null,
            "max_height": null,
            "max_width": null,
            "min_height": null,
            "min_width": null,
            "object_fit": null,
            "object_position": null,
            "order": null,
            "overflow": null,
            "overflow_x": null,
            "overflow_y": null,
            "padding": null,
            "right": null,
            "top": null,
            "visibility": null,
            "width": null
          }
        },
        "9c091279a0024c1fa59d3cff578edd8a": {
          "model_module": "@jupyter-widgets/base",
          "model_module_version": "1.2.0",
          "model_name": "LayoutModel",
          "state": {
            "_model_module": "@jupyter-widgets/base",
            "_model_module_version": "1.2.0",
            "_model_name": "LayoutModel",
            "_view_count": null,
            "_view_module": "@jupyter-widgets/base",
            "_view_module_version": "1.2.0",
            "_view_name": "LayoutView",
            "align_content": null,
            "align_items": null,
            "align_self": null,
            "border": null,
            "bottom": null,
            "display": null,
            "flex": null,
            "flex_flow": null,
            "grid_area": null,
            "grid_auto_columns": null,
            "grid_auto_flow": null,
            "grid_auto_rows": null,
            "grid_column": null,
            "grid_gap": null,
            "grid_row": null,
            "grid_template_areas": null,
            "grid_template_columns": null,
            "grid_template_rows": null,
            "height": null,
            "justify_content": null,
            "justify_items": null,
            "left": null,
            "margin": null,
            "max_height": null,
            "max_width": null,
            "min_height": null,
            "min_width": null,
            "object_fit": null,
            "object_position": null,
            "order": null,
            "overflow": null,
            "overflow_x": null,
            "overflow_y": null,
            "padding": null,
            "right": null,
            "top": null,
            "visibility": null,
            "width": null
          }
        },
        "9f1ea89a69b44f809aa0f0d46b71b11b": {
          "model_module": "@jupyter-widgets/controls",
          "model_module_version": "1.5.0",
          "model_name": "HBoxModel",
          "state": {
            "_dom_classes": [],
            "_model_module": "@jupyter-widgets/controls",
            "_model_module_version": "1.5.0",
            "_model_name": "HBoxModel",
            "_view_count": null,
            "_view_module": "@jupyter-widgets/controls",
            "_view_module_version": "1.5.0",
            "_view_name": "HBoxView",
            "box_style": "",
            "children": [
              "IPY_MODEL_dcce309ea0fa48f9bd841bab3921bcbe",
              "IPY_MODEL_5400f5b9f9e74922ba968bfb81ce325e",
              "IPY_MODEL_72e00c4b87854601b95f09afb45bd7ca"
            ],
            "layout": "IPY_MODEL_e6285be0c06642c8bdb83e26211cd862"
          }
        },
        "a83275b9d9014d1a8b73e648cffc2db8": {
          "model_module": "@jupyter-widgets/controls",
          "model_module_version": "1.5.0",
          "model_name": "DescriptionStyleModel",
          "state": {
            "_model_module": "@jupyter-widgets/controls",
            "_model_module_version": "1.5.0",
            "_model_name": "DescriptionStyleModel",
            "_view_count": null,
            "_view_module": "@jupyter-widgets/base",
            "_view_module_version": "1.2.0",
            "_view_name": "StyleView",
            "description_width": ""
          }
        },
        "c01e831276dc427a9707649a131b1519": {
          "model_module": "@jupyter-widgets/controls",
          "model_module_version": "1.5.0",
          "model_name": "DescriptionStyleModel",
          "state": {
            "_model_module": "@jupyter-widgets/controls",
            "_model_module_version": "1.5.0",
            "_model_name": "DescriptionStyleModel",
            "_view_count": null,
            "_view_module": "@jupyter-widgets/base",
            "_view_module_version": "1.2.0",
            "_view_name": "StyleView",
            "description_width": ""
          }
        },
        "dcce309ea0fa48f9bd841bab3921bcbe": {
          "model_module": "@jupyter-widgets/controls",
          "model_module_version": "1.5.0",
          "model_name": "HTMLModel",
          "state": {
            "_dom_classes": [],
            "_model_module": "@jupyter-widgets/controls",
            "_model_module_version": "1.5.0",
            "_model_name": "HTMLModel",
            "_view_count": null,
            "_view_module": "@jupyter-widgets/controls",
            "_view_module_version": "1.5.0",
            "_view_name": "HTMLView",
            "description": "",
            "description_tooltip": null,
            "layout": "IPY_MODEL_3c5d52bbce6842b0b5b0fe050ee6b6e2",
            "placeholder": "​",
            "style": "IPY_MODEL_a83275b9d9014d1a8b73e648cffc2db8",
            "value": "Training Batch:  96%"
          }
        },
        "e6285be0c06642c8bdb83e26211cd862": {
          "model_module": "@jupyter-widgets/base",
          "model_module_version": "1.2.0",
          "model_name": "LayoutModel",
          "state": {
            "_model_module": "@jupyter-widgets/base",
            "_model_module_version": "1.2.0",
            "_model_name": "LayoutModel",
            "_view_count": null,
            "_view_module": "@jupyter-widgets/base",
            "_view_module_version": "1.2.0",
            "_view_name": "LayoutView",
            "align_content": null,
            "align_items": null,
            "align_self": null,
            "border": null,
            "bottom": null,
            "display": null,
            "flex": null,
            "flex_flow": null,
            "grid_area": null,
            "grid_auto_columns": null,
            "grid_auto_flow": null,
            "grid_auto_rows": null,
            "grid_column": null,
            "grid_gap": null,
            "grid_row": null,
            "grid_template_areas": null,
            "grid_template_columns": null,
            "grid_template_rows": null,
            "height": null,
            "justify_content": null,
            "justify_items": null,
            "left": null,
            "margin": null,
            "max_height": null,
            "max_width": null,
            "min_height": null,
            "min_width": null,
            "object_fit": null,
            "object_position": null,
            "order": null,
            "overflow": null,
            "overflow_x": null,
            "overflow_y": null,
            "padding": null,
            "right": null,
            "top": null,
            "visibility": null,
            "width": null
          }
        },
        "e6a5211473f144938c5e2f6ac68575f7": {
          "model_module": "@jupyter-widgets/controls",
          "model_module_version": "1.5.0",
          "model_name": "HTMLModel",
          "state": {
            "_dom_classes": [],
            "_model_module": "@jupyter-widgets/controls",
            "_model_module_version": "1.5.0",
            "_model_name": "HTMLModel",
            "_view_count": null,
            "_view_module": "@jupyter-widgets/controls",
            "_view_module_version": "1.5.0",
            "_view_name": "HTMLView",
            "description": "",
            "description_tooltip": null,
            "layout": "IPY_MODEL_50458ffabcfa47ec9d8db7e7c6e0c5fe",
            "placeholder": "​",
            "style": "IPY_MODEL_6f40afb02e144400940f4d09269d64b5",
            "value": "Epochs: 100%"
          }
        }
      }
    }
  },
  "nbformat": 4,
  "nbformat_minor": 0
}
